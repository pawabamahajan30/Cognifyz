{
 "cells": [
  {
   "cell_type": "markdown",
   "id": "bfe58af9",
   "metadata": {},
   "source": [
    "# NAME - PAWABA RAJENDRA MAHAJAN"
   ]
  },
  {
   "cell_type": "markdown",
   "id": "96f2c3bb",
   "metadata": {},
   "source": [
    "# PYTHON DEVELOPMENT INTERNSHIP @ COGNIFYZ TECHNOLOGIES"
   ]
  },
  {
   "cell_type": "markdown",
   "id": "824a2993",
   "metadata": {},
   "source": [
    "# LEVEL 1"
   ]
  },
  {
   "cell_type": "code",
   "execution_count": null,
   "id": "4a8ece59",
   "metadata": {},
   "outputs": [],
   "source": []
  },
  {
   "cell_type": "markdown",
   "id": "5a7350c1",
   "metadata": {},
   "source": [
    "# TASK 1 -  STRING REVERSAL"
   ]
  },
  {
   "cell_type": "code",
   "execution_count": 1,
   "id": "ad223bc5",
   "metadata": {},
   "outputs": [
    {
     "name": "stdout",
     "output_type": "stream",
     "text": [
      "Enter a string: data science\n",
      "data science\n",
      "ECNEICS ATAD\n",
      "string count:  12\n"
     ]
    }
   ],
   "source": [
    "def reverse_string(word):\n",
    "    return word[::-1]\n",
    "\n",
    "string = input(\"Enter a string: \")\n",
    "print(string)\n",
    "print(reverse_string(string.upper()))\n",
    "print(\"string count: \", len(string))"
   ]
  },
  {
   "cell_type": "markdown",
   "id": "f5955ba6",
   "metadata": {},
   "source": [
    "# TASK 2 - TEMPERATURE CONVERSSION"
   ]
  },
  {
   "cell_type": "code",
   "execution_count": 3,
   "id": "a2055abe",
   "metadata": {},
   "outputs": [
    {
     "name": "stdout",
     "output_type": "stream",
     "text": [
      "\n",
      "          1. To convert to Celcius\n",
      "          2. To convert to Farenheit \n",
      "Enter the choice: 2\n",
      "Enter the Temperature in Celcius: 20\n",
      "The Temperature in Farenheit:  68.0\n"
     ]
    }
   ],
   "source": [
    "# python program to take the temperature in farenheit and convert into celcius\n",
    "def Celcius():\n",
    "    Farenheit = float(input(\"Enter the Temperature in Farenheit: \"))\n",
    "    Celcius =(Farenheit-32)/1.8\n",
    "    print(\"The Temperature in Celcius: \", Celcius)\n",
    "    \n",
    "    \n",
    "def Farenheit():\n",
    "    Celcius = float(input(\"Enter the Temperature in Celcius: \"))\n",
    "    Farenheit = (Celcius*1.8)+32\n",
    "    print(\"The Temperature in Farenheit: \",Farenheit)\n",
    "    \n",
    "def main():\n",
    "    print('''\n",
    "          1. To convert to Celcius\n",
    "          2. To convert to Farenheit ''')\n",
    "    choice = input(\"Enter the choice: \")\n",
    "    if (choice=='1'):\n",
    "        Celcius()\n",
    "    elif (choice=='2'):\n",
    "        Farenheit()\n",
    "    else:\n",
    "        print(\"invalid Choice\")\n",
    "        \n",
    "\n",
    "        \n",
    "main()\n",
    "    "
   ]
  },
  {
   "cell_type": "markdown",
   "id": "820ffe17",
   "metadata": {},
   "source": [
    "# TASK 3 - EMAIL VALIDATOR"
   ]
  },
  {
   "cell_type": "code",
   "execution_count": 5,
   "id": "89dc7e13",
   "metadata": {},
   "outputs": [
    {
     "name": "stdout",
     "output_type": "stream",
     "text": [
      "Enter an email address: kunalmali22@gmail.com\n",
      "Valid email address.\n"
     ]
    }
   ],
   "source": [
    "import re\n",
    "\n",
    "def validate_email(email):\n",
    "    pattern = r'^[a-zA-Z0-9._%+-]+@[a-zA-Z0-9.-]+\\.[a-zA-Z]{2,}$'\n",
    "    \n",
    "    \n",
    "    if re.match(pattern, email):\n",
    "        return True\n",
    "    else:\n",
    "        return False\n",
    "    \n",
    "email_address = input(\"Enter an email address: \")\n",
    "\n",
    "if validate_email(email_address):\n",
    "    print(\"Valid email address.\")\n",
    "else:\n",
    "    print(\"Invalid email address.\")\n",
    "    \n",
    "    "
   ]
  },
  {
   "cell_type": "markdown",
   "id": "0c6de37c",
   "metadata": {},
   "source": [
    "# TASK 4 - CALCULATOR PROGRAM"
   ]
  },
  {
   "cell_type": "code",
   "execution_count": 6,
   "id": "f326a461",
   "metadata": {
    "scrolled": true
   },
   "outputs": [
    {
     "name": "stdout",
     "output_type": "stream",
     "text": [
      "enter first number here: 50\n",
      "enter second number here: 10\n",
      "press 1 for addition \n",
      "press 2 for substraction \n",
      "press 3 multiplication \n",
      "press 4 division \n",
      "press 5 percentage\n",
      "enter your choice from 1-5:4\n",
      "The division of given two number is 5.0\n"
     ]
    }
   ],
   "source": [
    "num1 = float(input(\"enter first number here: \"))\n",
    "num2 = float(input(\"enter second number here: \"))\n",
    "\n",
    "print(\"press 1 for addition \\npress 2 for substraction \\npress 3 multiplication \\npress 4 division \\npress 5 percentage\")\n",
    "\n",
    "choice = int(input(\"enter your choice from 1-5:\"))\n",
    "\n",
    "\n",
    "if choice == 1:\n",
    "    print(\"The addition of given two number is\",num1 + num2)\n",
    "elif choice == 2:\n",
    "    print(\"The substraction of given two number is\",num1 - num2)\n",
    "elif choice == 3:\n",
    "    print(\"The multiplication of given two number is\",num1 * num2)\n",
    "elif choice == 4:\n",
    "    print(\"The division of given two number is\",num1 / num2)\n",
    "elif choice == 5:\n",
    "    print(\"The percentage of given two number is\",num1 % num2)\n",
    "else:\n",
    "    print(\"invalid input\")\n",
    "    "
   ]
  },
  {
   "cell_type": "markdown",
   "id": "b9d6c44b",
   "metadata": {},
   "source": [
    "# TASK 5 - PALINDROME CHECKER"
   ]
  },
  {
   "cell_type": "code",
   "execution_count": 10,
   "id": "c8c6ad34",
   "metadata": {},
   "outputs": [
    {
     "name": "stdout",
     "output_type": "stream",
     "text": [
      "Enter a string: python developer\n",
      "The string is not a palindrome.\n"
     ]
    }
   ],
   "source": [
    "def is_palindrome(input_string):\n",
    "     input_string = input_string.lower().replace(\" \", \"\")\n",
    "        \n",
    "     if input_string == input_string[::-1]:\n",
    "        return True\n",
    "     else:\n",
    "        return False\n",
    "\n",
    "user_input = input(\"Enter a string: \")\n",
    "\n",
    "if is_palindrome(user_input):\n",
    "    print(\"The string is a palindrome.\")\n",
    "else:\n",
    "    print(\"The string is not a palindrome.\")\n",
    "\n",
    "    \n",
    "    \n",
    "    "
   ]
  },
  {
   "cell_type": "code",
   "execution_count": null,
   "id": "a724744a",
   "metadata": {},
   "outputs": [],
   "source": []
  }
 ],
 "metadata": {
  "kernelspec": {
   "display_name": "Python 3 (ipykernel)",
   "language": "python",
   "name": "python3"
  },
  "language_info": {
   "codemirror_mode": {
    "name": "ipython",
    "version": 3
   },
   "file_extension": ".py",
   "mimetype": "text/x-python",
   "name": "python",
   "nbconvert_exporter": "python",
   "pygments_lexer": "ipython3",
   "version": "3.9.12"
  }
 },
 "nbformat": 4,
 "nbformat_minor": 5
}
