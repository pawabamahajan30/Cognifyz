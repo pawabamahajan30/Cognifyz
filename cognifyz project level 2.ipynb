{
 "cells": [
  {
   "cell_type": "markdown",
   "id": "702fac09",
   "metadata": {},
   "source": [
    "# NAME - PAWABA RAJENDRA MAHAJAN"
   ]
  },
  {
   "cell_type": "markdown",
   "id": "cfc18583",
   "metadata": {},
   "source": [
    "# PYTHON DEVELOPMENT INTERNSHIP @ COGNIFYZ TECHNOLOGIES"
   ]
  },
  {
   "cell_type": "markdown",
   "id": "b5c708cd",
   "metadata": {},
   "source": [
    "# LEVEL 2"
   ]
  },
  {
   "cell_type": "code",
   "execution_count": null,
   "id": "94a9ad47",
   "metadata": {},
   "outputs": [],
   "source": []
  },
  {
   "cell_type": "markdown",
   "id": "cf03ffdf",
   "metadata": {},
   "source": [
    "# TASK 1  "
   ]
  },
  {
   "cell_type": "markdown",
   "id": "7b1b4e6a",
   "metadata": {},
   "source": [
    "# GUESSING GAME"
   ]
  },
  {
   "cell_type": "code",
   "execution_count": 1,
   "id": "f491d107",
   "metadata": {},
   "outputs": [
    {
     "name": "stdout",
     "output_type": "stream",
     "text": [
      "Enter your number :  70\n",
      "Computer number : 34\n",
      "Your guess number is too high\n"
     ]
    }
   ],
   "source": [
    "import random\n",
    "cnumber = random.randrange(1,100)\n",
    "userinput = int(input(\"Enter your number :  \"))\n",
    "if userinput > cnumber:\n",
    "    print(\"Computer number :\",cnumber)\n",
    "    print(\"Your guess number is too high\")\n",
    "elif userinput < cnumber :\n",
    "    print(\"Computer number\",cnumber)\n",
    "    print(\"Your guess number is too low\")\n",
    "else:\n",
    "    print(\"Computer number\",cnumber)\n",
    "    print(\"Your guess number is too equal\")"
   ]
  },
  {
   "cell_type": "markdown",
   "id": "70c0a3a1",
   "metadata": {},
   "source": [
    "# TASK 2 "
   ]
  },
  {
   "cell_type": "markdown",
   "id": "a83dde02",
   "metadata": {},
   "source": [
    "# PASSWORD STRENGTH CHECKER"
   ]
  },
  {
   "cell_type": "code",
   "execution_count": 3,
   "id": "34a31c6f",
   "metadata": {},
   "outputs": [
    {
     "name": "stdout",
     "output_type": "stream",
     "text": [
      "Enter your password: Ketanroy30@gmail.com\n",
      "password is strong\n"
     ]
    }
   ],
   "source": [
    "import re\n",
    "\n",
    "password = input(\"Enter your password: \")\n",
    "if len(password) < 8:\n",
    "    print(\"password must be at least 8 character long\")\n",
    "elif not re.search(\"[A-Z]\",password):\n",
    "    print(\"password must contain at least one uppercase letter.\")\n",
    "elif not re.search(\"[a-z]\",password):\n",
    "    print(\"password must contain at least one lowercase letter.\")\n",
    "elif not re.search(\"[0-9]\",password):\n",
    "    print(\"password must contain at least one number.\")\n",
    "else:\n",
    "    print(\"password is strong\")"
   ]
  },
  {
   "cell_type": "markdown",
   "id": "cee5be32",
   "metadata": {},
   "source": [
    "# TASK 3 "
   ]
  },
  {
   "cell_type": "markdown",
   "id": "ad29b6f7",
   "metadata": {},
   "source": [
    "# FIBONACCI SEQUENCE"
   ]
  },
  {
   "cell_type": "code",
   "execution_count": 4,
   "id": "69dedbfd",
   "metadata": {},
   "outputs": [
    {
     "name": "stdout",
     "output_type": "stream",
     "text": [
      "Enter the number of terms for the Fibonacci sequence: 8\n",
      "Fibonacci sequence:\n",
      "[0, 1, 1, 2, 3, 5, 8, 13]\n"
     ]
    }
   ],
   "source": [
    "def fibonacci_sequence(num_terms):\n",
    "    fib_sequence = [0,1]\n",
    "    \n",
    "    for i in range(2, num_terms):\n",
    "        next_term = fib_sequence[-1] + fib_sequence[-2]\n",
    "        fib_sequence.append(next_term)\n",
    "        \n",
    "    return fib_sequence\n",
    "\n",
    "num_terms = int(input(\"Enter the number of terms for the Fibonacci sequence: \"))\n",
    "sequence = fibonacci_sequence(num_terms)\n",
    "print(\"Fibonacci sequence:\")\n",
    "print(sequence)"
   ]
  },
  {
   "cell_type": "markdown",
   "id": "73325bec",
   "metadata": {},
   "source": [
    "# TASK 4 "
   ]
  },
  {
   "cell_type": "markdown",
   "id": "8a1e57ce",
   "metadata": {},
   "source": [
    "# FILE MANIPULATION"
   ]
  },
  {
   "cell_type": "code",
   "execution_count": 5,
   "id": "1f922bed",
   "metadata": {},
   "outputs": [
    {
     "name": "stdout",
     "output_type": "stream",
     "text": [
      "Given Text File Data is:  Given Text File: Hello, Welcome to \"DATA SCIENCE TUTORIALS\"In \"DATA SCIENCE TUTORIALS\" Youtube Channel, you will find python programs for all general use cases.\n",
      "In \"DATA SCIENCE TUTORIALS\", various ECE subjects explained neatly.\n",
      "Name of the subjects : machine learning, deep learning, data analytics, framework, python programming, sql, cloud platform.\n",
      " \n",
      "Number of occurrences of the word:  2\n",
      "Number of occurrences of the word:  2\n",
      "Number of occurrences of the word:  1\n",
      "Number of occurrences of the word:  2\n"
     ]
    }
   ],
   "source": [
    "file = open(\"C:\\python developer\\count.txt\",\"r\")\n",
    "data = file.read()\n",
    "print(\"Given Text File Data is: \", data)\n",
    "\n",
    "occurrences = data.count('python')\n",
    "print(\"Number of occurrences of the word: \",occurrences)\n",
    "\n",
    "occurances = data.count(\"DATA SCIENCE TUTORIALS\")\n",
    "print(\"Number of occurrences of the word: \",occurrences)\n",
    "\n",
    "occurrences = data.count(\"programming\")\n",
    "print(\"Number of occurrences of the word: \",occurrences)\n",
    "\n",
    "occurrences = data.count(\"learning\")\n",
    "print(\"Number of occurrences of the word: \",occurrences)"
   ]
  },
  {
   "cell_type": "markdown",
   "id": "b1027f5b",
   "metadata": {},
   "source": [
    "# TASK 5 "
   ]
  },
  {
   "cell_type": "markdown",
   "id": "c64d574d",
   "metadata": {},
   "source": [
    "# NUMBER GUESSER"
   ]
  },
  {
   "cell_type": "code",
   "execution_count": null,
   "id": "ff92dd91",
   "metadata": {},
   "outputs": [
    {
     "name": "stdout",
     "output_type": "stream",
     "text": [
      "Enter Guess: 70\n",
      "Guess is to low!\n",
      "Enter Guess: 45\n",
      "Guess is to high!\n",
      "Enter Guess: 80\n",
      "Guess is to low!\n",
      "Enter Guess: 60\n",
      "Guess is to low!\n"
     ]
    }
   ],
   "source": [
    "import random\n",
    "\n",
    "cnumber = random.randint(1,100)\n",
    "guess = 0\n",
    "\n",
    "while guess != cnumber:\n",
    "    guess = int(input(\"Enter Guess: \"))\n",
    "    \n",
    "    if (guess < cnumber):\n",
    "        print(\"Guess is to high!\")\n",
    "        \n",
    "    elif (guess > cnumber):\n",
    "        print(\"Guess is to low!\")\n",
    "        \n",
    "    else:\n",
    "        print(\"you won\")"
   ]
  },
  {
   "cell_type": "code",
   "execution_count": null,
   "id": "d0347049",
   "metadata": {},
   "outputs": [],
   "source": []
  }
 ],
 "metadata": {
  "kernelspec": {
   "display_name": "Python 3 (ipykernel)",
   "language": "python",
   "name": "python3"
  },
  "language_info": {
   "codemirror_mode": {
    "name": "ipython",
    "version": 3
   },
   "file_extension": ".py",
   "mimetype": "text/x-python",
   "name": "python",
   "nbconvert_exporter": "python",
   "pygments_lexer": "ipython3",
   "version": "3.9.12"
  }
 },
 "nbformat": 4,
 "nbformat_minor": 5
}
